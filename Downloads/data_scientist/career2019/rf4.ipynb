{
 "cells": [
  {
   "cell_type": "code",
   "execution_count": 9,
   "metadata": {},
   "outputs": [],
   "source": [
    "import os\n",
    "import numpy as np\n",
    "import pandas as pd \n",
    "import seaborn as sns\n",
    "import matplotlib.pyplot as plt\n",
    "from sklearn.metrics import accuracy_score, confusion_matrix\n",
    "from sklearn.preprocessing import LabelEncoder\n",
    "from sklearn.ensemble import RandomForestClassifier\n",
    "from sklearn.model_selection import StratifiedKFold\n",
    "from sklearn.model_selection import StratifiedShuffleSplit \n",
    "import itertools\n",
    "from sklearn.metrics import *"
   ]
  },
  {
   "cell_type": "code",
   "execution_count": 2,
   "metadata": {},
   "outputs": [],
   "source": [
    "X_train = pd.read_csv(\"X_train.csv\")\n",
    "X_test = pd.read_csv(\"X_test.csv\")\n",
    "y_train = pd.read_csv(\"y_train.csv\")\n",
    "sub = pd.read_csv(\"sample_submission.csv\")"
   ]
  },
  {
   "cell_type": "code",
   "execution_count": 3,
   "metadata": {},
   "outputs": [],
   "source": [
    "def fe(data):\n",
    "    \n",
    "    df = pd.DataFrame()\n",
    "    data['totl_anglr_vel'] = (data['angular_velocity_X']**2 + data['angular_velocity_Y']**2 +\n",
    "                             data['angular_velocity_Z']**2)** 0.5\n",
    "    data['totl_linr_acc'] = (data['linear_acceleration_X']**2 + data['linear_acceleration_Y']**2 +\n",
    "                             data['linear_acceleration_Z'])**0.5\n",
    "    data['totl_xyz'] = (data['orientation_X']**2 + data['orientation_Y']**2 +\n",
    "                             data['orientation_Z'])**0.5\n",
    "   \n",
    "    data['acc_vs_vel'] = data['totl_linr_acc'] / data['totl_anglr_vel']\n",
    "    \n",
    "    for col in data.columns:\n",
    "        if col in ['row_id','series_id','measurement_number']:\n",
    "            continue\n",
    "        df[col + '_mean'] = data.groupby(['series_id'])[col].mean()\n",
    "        df[col + '_median'] = data.groupby(['series_id'])[col].median()\n",
    "        df[col + '_max'] = data.groupby(['series_id'])[col].max()\n",
    "        df[col + '_min'] = data.groupby(['series_id'])[col].min()\n",
    "        df[col + '_std'] = data.groupby(['series_id'])[col].std()\n",
    "        df[col + '_range'] = df[col + '_max'] - df[col + '_min']\n",
    "        df[col + '_maxtoMin'] = df[col + '_max'] / df[col + '_min']\n",
    "        df[col + '_mean_abs_chg'] = data.groupby(['series_id'])[col].apply(lambda x: np.mean(np.abs(np.diff(x))))\n",
    "        df[col + '_abs_max'] = data.groupby(['series_id'])[col].apply(lambda x: np.max(np.abs(x)))\n",
    "        df[col + '_abs_min'] = data.groupby(['series_id'])[col].apply(lambda x: np.min(np.abs(x)))\n",
    "        df[col + '_abs_avg'] = (df[col + '_abs_min'] + df[col + '_abs_max'])/2\n",
    "    return df"
   ]
  },
  {
   "cell_type": "code",
   "execution_count": 4,
   "metadata": {},
   "outputs": [
    {
     "name": "stdout",
     "output_type": "stream",
     "text": [
      "(3810, 154)\n"
     ]
    }
   ],
   "source": [
    "X_train = fe(X_train)\n",
    "X_test = fe(X_test)\n",
    "print(X_train.shape)"
   ]
  },
  {
   "cell_type": "code",
   "execution_count": 5,
   "metadata": {},
   "outputs": [],
   "source": [
    "le = LabelEncoder()\n",
    "y_train['surface'] = le.fit_transform(y_train['surface'])"
   ]
  },
  {
   "cell_type": "code",
   "execution_count": 14,
   "metadata": {},
   "outputs": [],
   "source": [
    "X_train.fillna(0, inplace = True)\n",
    "X_test.fillna(0, inplace = True)\n",
    "X_train.replace(-np.inf, 0, inplace = True)\n",
    "X_train.replace(np.inf, 0, inplace = True)\n",
    "X_test.replace(-np.inf, 0, inplace = True)\n",
    "X_test.replace(np.inf, 0, inplace = True)"
   ]
  },
  {
   "cell_type": "code",
   "execution_count": 26,
   "metadata": {},
   "outputs": [],
   "source": [
    "def k_folds(X, y, X_test, k):\n",
    "    folds = StratifiedShuffleSplit(n_splits = k, test_size=0.1, random_state=2019)\n",
    "    y_test = np.zeros((X_test.shape[0], 9))\n",
    "    y_oof = np.zeros((X.shape[0]))\n",
    "    score = 0\n",
    "    for i, (train_idx, val_idx) in  enumerate(folds.split(X, y)):\n",
    "        clf =  RandomForestClassifier(n_estimators = 500, n_jobs = -1)\n",
    "        clf.fit(X_train.iloc[train_idx], y[train_idx])\n",
    "        y_oof[val_idx] = clf.predict(X.iloc[val_idx])\n",
    "        y_test += clf.predict_proba(X_test) / folds.n_splits\n",
    "        score += clf.score(X.iloc[val_idx], y[val_idx])\n",
    "        print('Fold: {} score: {}'.format(i,clf.score(X.iloc[val_idx], y[val_idx])))\n",
    "    print('Avg Accuracy', score / folds.n_splits) \n",
    "        \n",
    "    return y_oof, y_test "
   ]
  },
  {
   "cell_type": "code",
   "execution_count": 27,
   "metadata": {},
   "outputs": [
    {
     "name": "stdout",
     "output_type": "stream",
     "text": [
      "Fold: 0 score: 0.8818897637795275\n",
      "Fold: 1 score: 0.884514435695538\n",
      "Fold: 2 score: 0.905511811023622\n",
      "Fold: 3 score: 0.89501312335958\n",
      "Fold: 4 score: 0.889763779527559\n",
      "Fold: 5 score: 0.9028871391076115\n",
      "Fold: 6 score: 0.8923884514435696\n",
      "Fold: 7 score: 0.8871391076115486\n",
      "Fold: 8 score: 0.889763779527559\n",
      "Fold: 9 score: 0.8923884514435696\n",
      "Fold: 10 score: 0.89501312335958\n",
      "Fold: 11 score: 0.9081364829396326\n",
      "Fold: 12 score: 0.8608923884514436\n",
      "Fold: 13 score: 0.8871391076115486\n",
      "Fold: 14 score: 0.868766404199475\n",
      "Fold: 15 score: 0.863517060367454\n",
      "Fold: 16 score: 0.8923884514435696\n",
      "Fold: 17 score: 0.8976377952755905\n",
      "Fold: 18 score: 0.910761154855643\n",
      "Fold: 19 score: 0.889763779527559\n",
      "Fold: 20 score: 0.8923884514435696\n",
      "Fold: 21 score: 0.8923884514435696\n",
      "Fold: 22 score: 0.8792650918635171\n",
      "Fold: 23 score: 0.8792650918635171\n",
      "Fold: 24 score: 0.9002624671916011\n",
      "Fold: 25 score: 0.9002624671916011\n",
      "Fold: 26 score: 0.9133858267716536\n",
      "Fold: 27 score: 0.8818897637795275\n",
      "Fold: 28 score: 0.8818897637795275\n",
      "Fold: 29 score: 0.905511811023622\n",
      "Fold: 30 score: 0.884514435695538\n",
      "Fold: 31 score: 0.8713910761154856\n",
      "Fold: 32 score: 0.8792650918635171\n",
      "Fold: 33 score: 0.8871391076115486\n",
      "Fold: 34 score: 0.863517060367454\n",
      "Fold: 35 score: 0.8976377952755905\n",
      "Fold: 36 score: 0.884514435695538\n",
      "Fold: 37 score: 0.8766404199475065\n",
      "Fold: 38 score: 0.9028871391076115\n",
      "Fold: 39 score: 0.89501312335958\n",
      "Fold: 40 score: 0.884514435695538\n",
      "Fold: 41 score: 0.8871391076115486\n",
      "Fold: 42 score: 0.8792650918635171\n",
      "Fold: 43 score: 0.8976377952755905\n",
      "Fold: 44 score: 0.8871391076115486\n",
      "Fold: 45 score: 0.9002624671916011\n",
      "Fold: 46 score: 0.889763779527559\n",
      "Fold: 47 score: 0.8713910761154856\n",
      "Fold: 48 score: 0.889763779527559\n",
      "Fold: 49 score: 0.8792650918635171\n",
      "Avg Accuracy 0.8886089238845142\n"
     ]
    }
   ],
   "source": [
    "y_oof, y_test = k_folds(X_train, y_train['surface'], X_test, k= 50)"
   ]
  },
  {
   "cell_type": "code",
   "execution_count": 28,
   "metadata": {},
   "outputs": [
    {
     "data": {
      "text/plain": [
       "array([[154,   5,   0,   0,   4,  10,   4,   5,   2],\n",
       "       [ 15, 695,  20,   1,  12,  17,   5,  25,  12],\n",
       "       [  0,  10, 287,   0,   3,   3,   0,   2,   3],\n",
       "       [  0,   0,   0,  10,   0,   0,   0,   0,   0],\n",
       "       [  1,  11,   1,   0, 278,   5,   0,   3,   1],\n",
       "       [  5,  15,  11,   0,   3, 666,   5,   8,  23],\n",
       "       [  4,  10,   3,   2,   0,  10, 278,   5,   2],\n",
       "       [  2,  12,   9,   0,   0,   3,   0, 458,  19],\n",
       "       [  8,  21,  32,   8,   8,  18,   5,   8, 545]])"
      ]
     },
     "execution_count": 28,
     "metadata": {},
     "output_type": "execute_result"
    }
   ],
   "source": [
    "from sklearn.metrics import accuracy_score, confusion_matrix\n",
    "from sklearn.metrics import confusion_matrix\n",
    "confusion_matrix(y_oof,y_train['surface'])"
   ]
  },
  {
   "cell_type": "code",
   "execution_count": 29,
   "metadata": {},
   "outputs": [],
   "source": [
    "y_test = np.argmax(y_test, axis=1)\n",
    "sub['surface'] = le.inverse_transform(y_test)\n",
    "sub.to_csv('submission_rf_new5.csv', index=False)"
   ]
  },
  {
   "cell_type": "code",
   "execution_count": null,
   "metadata": {},
   "outputs": [],
   "source": []
  }
 ],
 "metadata": {
  "kernelspec": {
   "display_name": "Python 3",
   "language": "python",
   "name": "python3"
  },
  "language_info": {
   "codemirror_mode": {
    "name": "ipython",
    "version": 3
   },
   "file_extension": ".py",
   "mimetype": "text/x-python",
   "name": "python",
   "nbconvert_exporter": "python",
   "pygments_lexer": "ipython3",
   "version": "3.6.7"
  }
 },
 "nbformat": 4,
 "nbformat_minor": 2
}

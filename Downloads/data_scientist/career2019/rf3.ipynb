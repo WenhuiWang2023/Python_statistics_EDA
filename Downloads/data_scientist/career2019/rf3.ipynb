{
 "cells": [
  {
   "cell_type": "code",
   "execution_count": 1,
   "metadata": {},
   "outputs": [],
   "source": [
    "import os\n",
    "import numpy as np\n",
    "import pandas as pd \n",
    "import seaborn as sns\n",
    "import matplotlib.pyplot as plt\n",
    "from sklearn.metrics import accuracy_score, confusion_matrix\n",
    "from sklearn.preprocessing import LabelEncoder\n",
    "from sklearn.ensemble import RandomForestClassifier\n",
    "from sklearn.model_selection import StratifiedKFold\n",
    "import itertools\n",
    "from sklearn.metrics import *"
   ]
  },
  {
   "cell_type": "code",
   "execution_count": 2,
   "metadata": {},
   "outputs": [],
   "source": [
    "X_train = pd.read_csv(\"X_train.csv\")\n",
    "X_test = pd.read_csv(\"X_test.csv\")\n",
    "y_train = pd.read_csv(\"y_train.csv\")\n",
    "sub = pd.read_csv(\"sample_submission.csv\")"
   ]
  },
  {
   "cell_type": "code",
   "execution_count": 3,
   "metadata": {},
   "outputs": [],
   "source": [
    "def fe(data):\n",
    "    \n",
    "    df = pd.DataFrame()\n",
    "    data['totl_anglr_vel'] = (data['angular_velocity_X']**2 + data['angular_velocity_Y']**2 +\n",
    "                             data['angular_velocity_Z']**2)** 0.5\n",
    "    data['totl_linr_acc'] = (data['linear_acceleration_X']**2 + data['linear_acceleration_Y']**2 +\n",
    "                             data['linear_acceleration_Z'])**0.5\n",
    "    data['totl_xyz'] = (data['orientation_X']**2 + data['orientation_Y']**2 +\n",
    "                             data['orientation_Z'])**0.5\n",
    "   \n",
    "    data['acc_vs_vel'] = data['totl_linr_acc'] / data['totl_anglr_vel']\n",
    "    \n",
    "    for col in data.columns:\n",
    "        if col in ['row_id','series_id','measurement_number']:\n",
    "            continue\n",
    "        df[col + '_mean'] = data.groupby(['series_id'])[col].mean()\n",
    "        df[col + '_median'] = data.groupby(['series_id'])[col].median()\n",
    "        df[col + '_max'] = data.groupby(['series_id'])[col].max()\n",
    "        df[col + '_min'] = data.groupby(['series_id'])[col].min()\n",
    "        df[col + '_std'] = data.groupby(['series_id'])[col].std()\n",
    "        df[col + '_range'] = df[col + '_max'] - df[col + '_min']\n",
    "        df[col + '_maxtoMin'] = df[col + '_max'] / df[col + '_min']\n",
    "        df[col + '_mean_abs_chg'] = data.groupby(['series_id'])[col].apply(lambda x: np.mean(np.abs(np.diff(x))))\n",
    "        df[col + '_abs_max'] = data.groupby(['series_id'])[col].apply(lambda x: np.max(np.abs(x)))\n",
    "        df[col + '_abs_min'] = data.groupby(['series_id'])[col].apply(lambda x: np.min(np.abs(x)))\n",
    "        df[col + '_abs_avg'] = (df[col + '_abs_min'] + df[col + '_abs_max'])/2\n",
    "    return df"
   ]
  },
  {
   "cell_type": "code",
   "execution_count": 4,
   "metadata": {},
   "outputs": [
    {
     "name": "stdout",
     "output_type": "stream",
     "text": [
      "(3810, 154)\n"
     ]
    }
   ],
   "source": [
    "X_train = fe(X_train)\n",
    "X_test = fe(X_test)\n",
    "print(X_train.shape)"
   ]
  },
  {
   "cell_type": "code",
   "execution_count": 8,
   "metadata": {},
   "outputs": [],
   "source": [
    "le = LabelEncoder()\n",
    "y_train['surface'] = le.fit_transform(y_train['surface'])"
   ]
  },
  {
   "cell_type": "code",
   "execution_count": 5,
   "metadata": {},
   "outputs": [],
   "source": [
    "X_train.fillna(0, inplace = True)\n",
    "X_test.fillna(0, inplace = True)\n",
    "X_train.replace(-np.inf, 0, inplace = True)\n",
    "X_train.replace(np.inf, 0, inplace = True)\n",
    "X_test.replace(-np.inf, 0, inplace = True)\n",
    "X_test.replace(np.inf, 0, inplace = True)"
   ]
  },
  {
   "cell_type": "code",
   "execution_count": 6,
   "metadata": {},
   "outputs": [],
   "source": [
    "def k_folds(X, y, X_test, k):\n",
    "    folds = StratifiedKFold(n_splits = k, shuffle=True, random_state=2019)\n",
    "    y_test = np.zeros((X_test.shape[0], 9))\n",
    "    y_oof = np.zeros((X.shape[0]))\n",
    "    score = 0\n",
    "    for i, (train_idx, val_idx) in  enumerate(folds.split(X, y)):\n",
    "        clf =  RandomForestClassifier(n_estimators = 500, n_jobs = -1)\n",
    "        clf.fit(X_train.iloc[train_idx], y[train_idx])\n",
    "        y_oof[val_idx] = clf.predict(X.iloc[val_idx])\n",
    "        y_test += clf.predict_proba(X_test) / folds.n_splits\n",
    "        score += clf.score(X.iloc[val_idx], y[val_idx])\n",
    "        print('Fold: {} score: {}'.format(i,clf.score(X.iloc[val_idx], y[val_idx])))\n",
    "    print('Avg Accuracy', score / folds.n_splits) \n",
    "        \n",
    "    return y_oof, y_test "
   ]
  },
  {
   "cell_type": "code",
   "execution_count": 9,
   "metadata": {},
   "outputs": [
    {
     "name": "stderr",
     "output_type": "stream",
     "text": [
      "/home/wwhlazio/.local/lib/python3.6/site-packages/sklearn/model_selection/_split.py:652: Warning: The least populated class in y has only 21 members, which is too few. The minimum number of members in any class cannot be less than n_splits=50.\n",
      "  % (min_groups, self.n_splits)), Warning)\n"
     ]
    },
    {
     "name": "stdout",
     "output_type": "stream",
     "text": [
      "Fold: 0 score: 0.9382716049382716\n",
      "Fold: 1 score: 0.875\n",
      "Fold: 2 score: 0.9259259259259259\n",
      "Fold: 3 score: 0.9\n",
      "Fold: 4 score: 0.8625\n",
      "Fold: 5 score: 0.8625\n",
      "Fold: 6 score: 0.925\n",
      "Fold: 7 score: 0.8987341772151899\n",
      "Fold: 8 score: 0.8589743589743589\n",
      "Fold: 9 score: 0.8860759493670886\n",
      "Fold: 10 score: 0.9743589743589743\n",
      "Fold: 11 score: 0.8860759493670886\n",
      "Fold: 12 score: 0.8481012658227848\n",
      "Fold: 13 score: 0.8846153846153846\n",
      "Fold: 14 score: 0.9342105263157895\n",
      "Fold: 15 score: 0.9078947368421053\n",
      "Fold: 16 score: 0.8571428571428571\n",
      "Fold: 17 score: 0.8552631578947368\n",
      "Fold: 18 score: 0.8947368421052632\n",
      "Fold: 19 score: 0.8831168831168831\n",
      "Fold: 20 score: 0.9090909090909091\n",
      "Fold: 21 score: 0.935064935064935\n",
      "Fold: 22 score: 0.8831168831168831\n",
      "Fold: 23 score: 0.8289473684210527\n",
      "Fold: 24 score: 0.9090909090909091\n",
      "Fold: 25 score: 0.868421052631579\n",
      "Fold: 26 score: 0.8961038961038961\n",
      "Fold: 27 score: 0.9210526315789473\n",
      "Fold: 28 score: 0.9342105263157895\n",
      "Fold: 29 score: 0.92\n",
      "Fold: 30 score: 0.868421052631579\n",
      "Fold: 31 score: 0.84\n",
      "Fold: 32 score: 0.8783783783783784\n",
      "Fold: 33 score: 0.8918918918918919\n",
      "Fold: 34 score: 0.9066666666666666\n",
      "Fold: 35 score: 0.9054054054054054\n",
      "Fold: 36 score: 0.8648648648648649\n",
      "Fold: 37 score: 0.8918918918918919\n",
      "Fold: 38 score: 0.9333333333333333\n",
      "Fold: 39 score: 0.8493150684931506\n",
      "Fold: 40 score: 0.8648648648648649\n",
      "Fold: 41 score: 0.9324324324324325\n",
      "Fold: 42 score: 0.918918918918919\n",
      "Fold: 43 score: 0.7702702702702703\n",
      "Fold: 44 score: 0.9315068493150684\n",
      "Fold: 45 score: 0.8767123287671232\n",
      "Fold: 46 score: 0.9726027397260274\n",
      "Fold: 47 score: 0.875\n",
      "Fold: 48 score: 0.9166666666666666\n",
      "Fold: 49 score: 0.958904109589041\n",
      "Avg Accuracy 0.8942329087905035\n"
     ]
    }
   ],
   "source": [
    "y_oof, y_test = k_folds(X_train, y_train['surface'], X_test, k= 50)"
   ]
  },
  {
   "cell_type": "code",
   "execution_count": 10,
   "metadata": {},
   "outputs": [
    {
     "data": {
      "text/plain": [
       "array([[156,   3,   0,   0,   4,   3,   2,   3,   0],\n",
       "       [ 14, 702,  19,   1,  12,  16,   4,  22,  17],\n",
       "       [  0,   7, 298,   0,   1,   3,   1,   2,   4],\n",
       "       [  0,   0,   0,  10,   0,   0,   0,   0,   0],\n",
       "       [  1,  13,   1,   0, 282,   4,   0,   3,   1],\n",
       "       [  4,  15,   8,   0,   2, 677,   4,   8,  24],\n",
       "       [  4,   9,   2,   2,   0,   8, 281,   3,   3],\n",
       "       [  1,  10,  10,   0,   0,   3,   0, 464,  21],\n",
       "       [  9,  20,  25,   8,   7,  18,   5,   9, 537]])"
      ]
     },
     "execution_count": 10,
     "metadata": {},
     "output_type": "execute_result"
    }
   ],
   "source": [
    "from sklearn.metrics import accuracy_score, confusion_matrix\n",
    "from sklearn.metrics import confusion_matrix\n",
    "confusion_matrix(y_oof,y_train['surface'])"
   ]
  },
  {
   "cell_type": "code",
   "execution_count": 12,
   "metadata": {},
   "outputs": [],
   "source": [
    "#y_test = np.argmax(y_test, axis=1)\n",
    "sub['surface'] = le.inverse_transform(y_test)\n",
    "sub.to_csv('submission_rf_new3.csv', index=False)"
   ]
  },
  {
   "cell_type": "code",
   "execution_count": null,
   "metadata": {},
   "outputs": [],
   "source": []
  }
 ],
 "metadata": {
  "kernelspec": {
   "display_name": "Python 3",
   "language": "python",
   "name": "python3"
  },
  "language_info": {
   "codemirror_mode": {
    "name": "ipython",
    "version": 3
   },
   "file_extension": ".py",
   "mimetype": "text/x-python",
   "name": "python",
   "nbconvert_exporter": "python",
   "pygments_lexer": "ipython3",
   "version": "3.6.7"
  }
 },
 "nbformat": 4,
 "nbformat_minor": 2
}
